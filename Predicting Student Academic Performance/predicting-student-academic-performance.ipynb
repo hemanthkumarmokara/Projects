{
 "cells": [
  {
   "cell_type": "markdown",
   "metadata": {
    "_uuid": "1a29b8225d7dc56b43e10a8e36b66aab39e43fb7"
   },
   "source": [
    "# Predicting Student Academic Performance\n",
    "## an exploration in data visualiation and machine learning efffectiveness\n",
    "#### The goal of this project was to examine a number of ML algorithms that were capable of adjusting to categorical data and attempt to predict student performance. Some parts about our problem that make it unique are:  There are 3 classes and most of our data is categorical data and not purely quantitative. Our goal with this was to perform some initial data visualzation and to determine which classifier handles this data the best.\n",
    "##### Our project used the Kaggle.com dataset found [here](https://www.kaggle.com/aljarah/xAPI-Edu-Data).\n",
    " ## Reading in the data"
   ]
  },
  {
   "cell_type": "code",
   "execution_count": 1,
   "metadata": {
    "_cell_guid": "b1076dfc-b9ad-4769-8c92-a6c4dae69d19",
    "_uuid": "8f2839f25d086af736a60e9eeb907d3b93b6e0e5"
   },
   "outputs": [],
   "source": [
    "import pandas as pd    # a wonderful dataframe to work with\n",
    "import numpy as np     # adding a number of mathematical and science functions\n",
    "import seaborn as sns  # a very easy to use statistical data visualization package\n",
    "import matplotlib.pyplot as plt # a required plotting tool\n",
    "import warnings\n",
    "# sklearn is a big source of pre-written and mostly optimized ML algorithms.\n",
    "# Here we use their Decision trees, Support Vector Machines, and the classic Perceptron. \n",
    "from sklearn import preprocessing, svm   \n",
    "from sklearn.linear_model import Perceptron\n",
    "from sklearn.tree import DecisionTreeClassifier\n",
    "#ignore warnings\n",
    "warnings.filterwarnings('ignore')\n",
    "\n",
    "\n",
    "data = pd.read_csv('../input/xAPI-Edu-Data.csv')\n",
    "data.head()"
   ]
  },
  {
   "cell_type": "code",
   "execution_count": 2,
   "metadata": {
    "_uuid": "65a27e3e666def985acf7167ee394a8caea541b9"
   },
   "outputs": [],
   "source": [
    "data.tail()"
   ]
  },
  {
   "cell_type": "markdown",
   "metadata": {
    "_cell_guid": "79c7e3d0-c299-4dcb-8224-4455121ee9b0",
    "_uuid": "d629ff2d2480ee46fbb7e2d37f6b5fab8052498a",
    "collapsed": true
   },
   "source": [
    "## Data Fields\n",
    "<table>\n",
    "    <tr>\n",
    "    <th>Data Field</th>\n",
    "    <th>Description</th>\n",
    "    </tr>\n",
    "    <tr>\n",
    "    <th>gender</th>\n",
    "    <td>The student's gender.</td>\n",
    "    </tr>\n",
    "    <tr>\n",
    "    <th>NationalITy</th>\n",
    "    <td>The student's nationality.</td>\n",
    "    </tr>\n",
    "    <tr>\n",
    "    <th>PlaceofBirth</th>\n",
    "    <td>The student's country of birth.</td>\n",
    "    </tr>\n",
    "    <tr>\n",
    "    <th>StageID</th>\n",
    "    <td>Educational level student belongs to (Elementary, Middle, or High School).</td>\n",
    "    </tr>\n",
    "    <tr>\n",
    "    <th>GradeID</th>\n",
    "    <td>The grade year of the student.</td>\n",
    "    </tr>\n",
    "    <tr>\n",
    "    <th>SectionID</th>\n",
    "    <td>The classroom the student is in.</td>\n",
    "    </tr>\n",
    "    <tr>\n",
    "    <th>Topic</th>\n",
    "    <td>The topic of the course.</td>\n",
    "    </tr>\n",
    "    <tr>\n",
    "    <th>Semester</th>\n",
    "    <td>The semester of the school year.   (F for Fall, S for Spring)</td>\n",
    "    </tr>\n",
    "    <tr>\n",
    "    <th>Relation</th>\n",
    "    <td>The parent responsible for student.</td>\n",
    "    </tr>\n",
    "    <tr>\n",
    "    <th>raisedhands</th>\n",
    "    <td>How many times the student raises his/her hand on classroom</td>\n",
    "    </tr>\n",
    "    <tr>\n",
    "    <th>VisITedResources</th>\n",
    "    <td>How many times the student visits a course content</td>\n",
    "    </tr>\n",
    "    <tr>\n",
    "    <th>AnnouncementsView</th>\n",
    "    <td>How many times the student checks the new announcements</td>\n",
    "    </tr>\n",
    "    <tr>\n",
    "    <th>Discussion</th>\n",
    "    <td>How many times the student participate on discussion groups</td>\n",
    "    </tr>\n",
    "    <tr>\n",
    "    <th>ParentAnsweringSurvey</th>\n",
    "    <td>Parent answered the surveys which are provided from school or not</td>\n",
    "    </tr>\n",
    "    <tr>\n",
    "    <th>ParentschoolSatisfaction</th>\n",
    "    <td>Whether or not the parents were satisfied. \"Good\" or \"Bad\". Oddly this was not null for parents who did not answer the survey. It is unclear how this value was filled in.</td>\n",
    "    </tr>\n",
    "    <tr>\n",
    "    <th>StudentAbsenceDays</th>\n",
    "    <td>Whether or not a student was absent for more than 7 days</td>\n",
    "    </tr>\n",
    "    <tr>\n",
    "    <th>Class</th>\n",
    "    <th>Our classification field. 'L' is for students who got a failing percentage (Less than 69%), 'M' for students who got a low passing grade (Between 70% and 89%), and 'H' for students who achieved high marks in their course (90% to 100%)</th>\n",
    "    </tr>\n",
    "    </table>\n",
    "    \n",
    "## Preliminary Data Visuialization\n",
    "#### Our goal with our data visuialization is to get an idea of the shape of our data and to see if we can easily identify any possible outliers. Because this is primarily categorical data we look mostly at countplots of the datafields and our classes. We also look to see if any of our data is unclear or redundant."
   ]
  },
  {
   "cell_type": "code",
   "execution_count": 3,
   "metadata": {
    "_uuid": "3246fe041f5da3e3814881d2a101b927ad23f5e6"
   },
   "outputs": [],
   "source": [
    "ax = sns.countplot(x='Class', data=data, order=['L', 'M', 'H'])\n",
    "for p in ax.patches:\n",
    "    ax.annotate('{:.2f}%'.format((p.get_height() * 100) / len(data)), (p.get_x() + 0.24, p.get_height() + 2))\n",
    "plt.show()"
   ]
  },
  {
   "cell_type": "code",
   "execution_count": 4,
   "metadata": {
    "_uuid": "ad30aa87f7a1b0089173dfbfbfc159c0d9aaf621"
   },
   "outputs": [],
   "source": [
    "fig, axarr  = plt.subplots(2,figsize=(10,10))\n",
    "sns.countplot(x='gender', data=data, order=['M','F'], ax=axarr[0])\n",
    "sns.countplot(x='gender', hue='Class', data=data, order=['M', 'F'],hue_order = ['L', 'M', 'H'], ax=axarr[1])\n",
    "plt.show()"
   ]
  },
  {
   "cell_type": "code",
   "execution_count": 5,
   "metadata": {
    "_uuid": "a1c2b939433959357893ecd36c4dcfe74e49c89c"
   },
   "outputs": [],
   "source": [
    "fig, axarr  = plt.subplots(2,figsize=(10,10))\n",
    "sns.countplot(x='NationalITy', data=data, ax=axarr[0])\n",
    "sns.countplot(x='NationalITy', hue='Class', data=data,hue_order = ['L', 'M', 'H'], ax=axarr[1])\n",
    "plt.show()"
   ]
  },
  {
   "cell_type": "code",
   "execution_count": 6,
   "metadata": {
    "_uuid": "7e655dee0772652efa773856e39fefdead68575e"
   },
   "outputs": [],
   "source": [
    "fig, axarr  = plt.subplots(2,figsize=(10,10))\n",
    "sns.countplot(x='PlaceofBirth', data=data, ax=axarr[0])\n",
    "sns.countplot(x='PlaceofBirth', hue='Class', data=data,hue_order = ['L', 'M', 'H'], ax=axarr[1])\n",
    "plt.show()"
   ]
  },
  {
   "cell_type": "code",
   "execution_count": 7,
   "metadata": {
    "_uuid": "68e352271200de0278b2018698bc4ce711b46055"
   },
   "outputs": [],
   "source": [
    "fig, axarr  = plt.subplots(2,figsize=(10,10))\n",
    "sns.countplot(x='StageID', data=data, ax=axarr[0])\n",
    "sns.countplot(x='StageID', hue='Class', data=data, hue_order = ['L', 'M', 'H'], ax=axarr[1])\n",
    "plt.show()"
   ]
  },
  {
   "cell_type": "code",
   "execution_count": 8,
   "metadata": {
    "_uuid": "53f0ae9b74f3dc24033bab9a34c03766b1644335"
   },
   "outputs": [],
   "source": [
    "fig, axarr  = plt.subplots(2,figsize=(10,10))\n",
    "sns.countplot(x='GradeID', data=data, order=['G-02', 'G-04', 'G-05', 'G-06', 'G-07', 'G-08', 'G-09', 'G-10', 'G-11', 'G-12'], ax=axarr[0])\n",
    "sns.countplot(x='GradeID', hue='Class', data=data, order=['G-02', 'G-04', 'G-05', 'G-06', 'G-07', 'G-08', 'G-09', 'G-10', 'G-11', 'G-12'], hue_order = ['L', 'M', 'H'], ax=axarr[1])\n",
    "plt.show()"
   ]
  },
  {
   "cell_type": "markdown",
   "metadata": {
    "_uuid": "a6ddecc26a9ce4620259733a37d8b8c6d227b68e"
   },
   "source": [
    "#### Looking at these results, Grades 5, 9, and 10 have very few counts. In addition to that, no 5th grade students pass and no 9th grade students achieve high marks. Perhaps these are outliers?"
   ]
  },
  {
   "cell_type": "code",
   "execution_count": 9,
   "metadata": {
    "_uuid": "19614b07c5d91d09bd0e04ca1ffa44e6bc656f88"
   },
   "outputs": [],
   "source": [
    "#Students in Grade 5\n",
    "data.loc[data['GradeID'] == 'G-05']"
   ]
  },
  {
   "cell_type": "code",
   "execution_count": 10,
   "metadata": {
    "_uuid": "9dd239f5d44752c6ceb357e4075eefa2a2331e90"
   },
   "outputs": [],
   "source": [
    "#Students in Grade 9\n",
    "data.loc[data['GradeID'] == 'G-09']"
   ]
  },
  {
   "cell_type": "markdown",
   "metadata": {
    "_uuid": "c61092c172ffb643eae25f82bd0b7078e230071e"
   },
   "source": [
    "#### After looking at the rows themselves, The grade 5 students appear to have similar data to all other students who did not pass (missed more than 7 days, low numerical values, no school survey, etc.)\n",
    "#### And again, after examining the data for the grade 9 students it also looks like what we would likely come to expect for each category.\n",
    "#### We will look a bit further at these later."
   ]
  },
  {
   "cell_type": "code",
   "execution_count": 11,
   "metadata": {
    "_uuid": "2484f65335e0824e35cf20234a6852117295c131"
   },
   "outputs": [],
   "source": [
    "fig, axarr  = plt.subplots(2,figsize=(10,10))\n",
    "sns.countplot(x='SectionID', data=data, order=['A', 'B', 'C'], ax = axarr[0])\n",
    "sns.countplot(x='SectionID', hue='Class', data=data, order=['A', 'B', 'C'],hue_order = ['L', 'M', 'H'], ax = axarr[1])\n",
    "plt.show()"
   ]
  },
  {
   "cell_type": "code",
   "execution_count": 12,
   "metadata": {
    "_uuid": "f48ccabb9af77a7501649e3685275030ad242fe9"
   },
   "outputs": [],
   "source": [
    "fig, axarr  = plt.subplots(2,figsize=(10,10))\n",
    "sns.countplot(x='Topic', data=data, ax = axarr[0])\n",
    "sns.countplot(x='Topic', hue='Class', data=data,hue_order = ['L', 'M', 'H'], ax = axarr[1])\n",
    "plt.show()"
   ]
  },
  {
   "cell_type": "markdown",
   "metadata": {
    "_uuid": "cf3b1bf282f9a821da0e962f732f2c7bd26b30e2"
   },
   "source": [
    "#### An interesting thing to note is that no Geology students fail. We will look into this in a second."
   ]
  },
  {
   "cell_type": "code",
   "execution_count": 13,
   "metadata": {
    "_uuid": "cb8ca358adf4212a52c1fb96969c50ebe6b87312"
   },
   "outputs": [],
   "source": [
    "fig, axarr  = plt.subplots(2,figsize=(10,10))\n",
    "sns.countplot(x='Semester', data=data, ax = axarr[0])\n",
    "sns.countplot(x='Semester', hue='Class', data=data,hue_order = ['L', 'M', 'H'], ax = axarr[1])\n",
    "plt.show()"
   ]
  },
  {
   "cell_type": "code",
   "execution_count": 14,
   "metadata": {
    "_uuid": "489b15721f113eb57a1bb8d9951639e278e0ecce"
   },
   "outputs": [],
   "source": [
    "fig, axarr  = plt.subplots(2,figsize=(10,10))\n",
    "sns.countplot(x='Relation', data=data, ax = axarr[0])\n",
    "sns.countplot(x='Relation', hue='Class', data=data,hue_order = ['L', 'M', 'H'], ax = axarr[1])\n",
    "plt.show()"
   ]
  },
  {
   "cell_type": "markdown",
   "metadata": {
    "_uuid": "9576d09ec16f555586b388ab8e96b3879da39046"
   },
   "source": [
    "#### Just looking at this there seems to be a correlation betwen students who have mothers as their primary caregiver and students who are less likely to fail.\n",
    "\n",
    "### Next, we take a look at our measurable data. The recorded number of times a student: Raised their hand, Visited the course's resources, Viewed the online course's Anouncement's page, and Visited the Discussion pages. For easier visual comparison, we plot these together:"
   ]
  },
  {
   "cell_type": "code",
   "execution_count": 15,
   "metadata": {
    "_uuid": "8fa74c92ba0f3d0d692a824f1234df0d17a318a1"
   },
   "outputs": [],
   "source": [
    "sns.pairplot(data, hue=\"Class\", diag_kind=\"kde\", hue_order = ['L', 'M', 'H'], markers=[\"o\", \"s\", \"D\"])\n",
    "plt.show()"
   ]
  },
  {
   "cell_type": "code",
   "execution_count": 16,
   "metadata": {
    "_uuid": "73aaa88738103e29cc7f4eb31591d160e712557c"
   },
   "outputs": [],
   "source": [
    "data.groupby('Topic').median()"
   ]
  },
  {
   "cell_type": "markdown",
   "metadata": {
    "_uuid": "c4158f79e3e42ddc5270f79679fb22c406b343a3"
   },
   "source": [
    "#### Here we can see part of the likely reason why the all of the geology students pass. They have far higher median numerical values than most other courses."
   ]
  },
  {
   "cell_type": "code",
   "execution_count": 17,
   "metadata": {
    "_uuid": "838596cdec8902f2f36ef505ef68254013cbf995"
   },
   "outputs": [],
   "source": [
    "data.groupby('GradeID').median()"
   ]
  },
  {
   "cell_type": "markdown",
   "metadata": {
    "_uuid": "a693e2787fd30b5940315630088dfb01a993225b"
   },
   "source": [
    "#### Here, looking at the median data again we can see part of the likely reason why the 5th and 9th grade students performed as they did as well."
   ]
  },
  {
   "cell_type": "code",
   "execution_count": 18,
   "metadata": {
    "_uuid": "051087f4a44879ca1ea3ddd55dbc6e08a673eccb"
   },
   "outputs": [],
   "source": [
    "fig, axarr  = plt.subplots(2,figsize=(10,10))\n",
    "sns.countplot(x='ParentAnsweringSurvey', data=data, order=['Yes', 'No'], ax = axarr[0])\n",
    "sns.countplot(x='ParentAnsweringSurvey', hue='Class', data=data, order=['Yes', 'No'], hue_order = ['L', 'M', 'H'], ax = axarr[1])\n",
    "plt.show()"
   ]
  },
  {
   "cell_type": "markdown",
   "metadata": {
    "_uuid": "3a3bafe9f14263c0164d86dd34adf089dac23adc"
   },
   "source": [
    "#### Looking at this graph brings a number of questions regarding the causation of this to mind. Were the paents more likely to answer the survey because their student did well, or did the students performance influence the responses? Unfortunately, like many times,  this is one of the questions that arises while looking at data visualizations that we just don't have access to the answer with the data."
   ]
  },
  {
   "cell_type": "code",
   "execution_count": 19,
   "metadata": {
    "_uuid": "db53f358a205454c49fd949407eaef7b6666705a"
   },
   "outputs": [],
   "source": [
    "fig, axarr  = plt.subplots(2,figsize=(10,10))\n",
    "sns.countplot(x='ParentschoolSatisfaction', data=data, order=['Good', 'Bad'], ax = axarr[0])\n",
    "sns.countplot(x='ParentschoolSatisfaction', hue='Class', data=data, order=['Good', 'Bad'],hue_order = ['L', 'M', 'H'], ax = axarr[1])\n",
    "plt.show()"
   ]
  },
  {
   "cell_type": "markdown",
   "metadata": {
    "_uuid": "1de9b382bb9f8de97e0638a920e7a27205d3718a"
   },
   "source": [
    "#### The same kind of causation questions arise when looking at the result of the parent's satisfaction with the school."
   ]
  },
  {
   "cell_type": "code",
   "execution_count": 20,
   "metadata": {
    "_uuid": "d3fa41099bc4e283ee3df6e46c868ecd3d2cd396"
   },
   "outputs": [],
   "source": [
    "fig, axarr  = plt.subplots(2,figsize=(10,10))\n",
    "sns.countplot(x='StudentAbsenceDays', data=data, order=['Under-7', 'Above-7'], ax = axarr[0])\n",
    "sns.countplot(x='StudentAbsenceDays', hue='Class', data=data, order=['Under-7', 'Above-7'],hue_order = ['L', 'M', 'H'], ax = axarr[1])\n",
    "plt.show()"
   ]
  },
  {
   "cell_type": "markdown",
   "metadata": {
    "_uuid": "b2ba596b19342b6e95eb74ccee94c856027801fa"
   },
   "source": [
    "#### StudentAbsenceDays seems to have a strong correlation with our Class variable. Very few students who missed more than 7 days managed to achieve high marks and very few students who missed less than 7 days failed their course.\n",
    "\n",
    "## Preprocessing the Data\n",
    "#### Our goal with prerocessing is to change our numerical fields that have a value like GradeID to a numerical only value in a way that we preserve that distance in a meningful way. Additionally, we want to assign our three classes to numerical outcomes with a preserved distance. There are a couple of ways to do this. We went with setting L = -1, M = 0, and H = 1. Additionally, you could set each to the middle value of their category on the 100% scale (L = 34.5, M = 79.5, and H = 95). We chose to preserve the distance between the categorical values. Additionally, we decided to scale our numerical fields so that they would be more meaningful when compared together. For this we used scikit learn's built in pre-processing scaling ability."
   ]
  },
  {
   "cell_type": "code",
   "execution_count": 21,
   "metadata": {
    "_uuid": "f8aea143daf386d02f8190e5e719b12edec475dd"
   },
   "outputs": [],
   "source": [
    "# Translate GradeID from categorical to numerical\n",
    "gradeID_dict = {\"G-01\" : 1,\n",
    "                \"G-02\" : 2,\n",
    "                \"G-03\" : 3,\n",
    "                \"G-04\" : 4,\n",
    "                \"G-05\" : 5,\n",
    "                \"G-06\" : 6,\n",
    "                \"G-07\" : 7,\n",
    "                \"G-08\" : 8,\n",
    "                \"G-09\" : 9,\n",
    "                \"G-10\" : 10,\n",
    "                \"G-11\" : 11,\n",
    "                \"G-12\" : 12}\n",
    "\n",
    "data = data.replace({\"GradeID\" : gradeID_dict})\n",
    "\n",
    "class_dict = {\"L\" : -1,\n",
    "                \"M\" : 0,\n",
    "                \"H\" : 1}\n",
    "data = data.replace({\"Class\" : class_dict})\n",
    "\n",
    "# Scale numerical fields\n",
    "data[\"GradeID\"] = preprocessing.scale(data[\"GradeID\"])\n",
    "data[\"raisedhands\"] = preprocessing.scale(data[\"raisedhands\"])\n",
    "data[\"VisITedResources\"] = preprocessing.scale(data[\"VisITedResources\"])\n",
    "data[\"AnnouncementsView\"] = preprocessing.scale(data[\"AnnouncementsView\"])\n",
    "data[\"Discussion\"] = preprocessing.scale(data[\"Discussion\"])\n",
    "\n",
    "# Use dummy variables for categorical fields\n",
    "data = pd.get_dummies(data, columns=[\"gender\",\n",
    "                                     \"NationalITy\",\n",
    "                                     \"PlaceofBirth\",\n",
    "                                     \"SectionID\",\n",
    "                                     \"StageID\",\n",
    "                                     \"Topic\",\n",
    "                                     \"Semester\",\n",
    "                                     \"Relation\",\n",
    "                                     \"ParentAnsweringSurvey\",\n",
    "                                     \"ParentschoolSatisfaction\",\n",
    "                                     \"StudentAbsenceDays\"])\n",
    "\n",
    "# Show preprocessed data\n",
    "data.head()"
   ]
  },
  {
   "cell_type": "markdown",
   "metadata": {
    "_uuid": "a83561f97715a9a34b0b5fa5b804ffac36794ad3"
   },
   "source": [
    "#### One of the primary methods of handling categorical data is to convert fields with many values into binary \"dummy\" variables. This ensures that our algorithms dont interpret a distance in a column with many possible categories. In our case, a good example of this is our Nationality column. It has 16 possible values and simply converting the values to a number would imply some distance between one or another which isn't something that makes sense in this case. As you can see we go from having 17 columns (16 variables and 1 class) to having 64 (63 variables and 1 class). Creating dummy variables like this can definitely increase the complexity of a problem, but most of them are very sparsely populated. Which becomes important with the ML methods we use.\n",
    "\n",
    "#### Now that things have been preprocessed a bit, we can take a look at the correlations between fields."
   ]
  },
  {
   "cell_type": "code",
   "execution_count": 22,
   "metadata": {
    "_uuid": "7f1e97616c40eb006f66d399127725f835a42158"
   },
   "outputs": [],
   "source": [
    "corr = data.corr()\n",
    "corr.iloc[[5]]"
   ]
  },
  {
   "cell_type": "markdown",
   "metadata": {
    "_uuid": "dd24e71722b33c5b96a2379615af9ec7d43496dd"
   },
   "source": [
    "#### A row of the correlation matrix looking only at our Classes and which attributes have a correlation to them. As we can see, StudentAbsenceDays has a strong correlation like we expected as do other columns. One important thing to note the values of columns that were converted into simple binary dummy pairs will always have an 'equal' correlation. (for example gender_F and gender_M)\n",
    "#### Listing our 8 highest correlated fields: Visited Resources, Student Absence Days, Raised Hands, Announcement Views, Survey Answered, Relation, Parent Satisfaction, Discussion, Gender, and Semester.\n"
   ]
  },
  {
   "cell_type": "markdown",
   "metadata": {
    "_uuid": "46e860c1bd8346e4b4552680d85610fb3170d792"
   },
   "source": [
    "## Configuring the Perceptron Classifier"
   ]
  },
  {
   "cell_type": "code",
   "execution_count": 23,
   "metadata": {
    "_uuid": "d8ce4e3cfaa1f59c866e229f0a9f90d42be64d5d",
    "collapsed": true
   },
   "outputs": [],
   "source": [
    "perc = Perceptron(n_iter=100, eta0=0.1, random_state=15)"
   ]
  },
  {
   "cell_type": "markdown",
   "metadata": {
    "_uuid": "241e46695c30bb88a96add201938efc99483b88f"
   },
   "source": [
    "## Split Data, Train, and Test - Perceptron"
   ]
  },
  {
   "cell_type": "code",
   "execution_count": 24,
   "metadata": {
    "_uuid": "94ad3f70c938189aa60fee2a63e9a208bb2d7269"
   },
   "outputs": [],
   "source": [
    "results = []\n",
    "predMiss = []\n",
    "\n",
    "for _ in range(1000):\n",
    "    # Randomly sample our training data\n",
    "    data_train = data.sample(frac=0.7)\n",
    "    # train data without label\n",
    "    data_train_X = data_train.loc[:, lambda x: [l for l in data if l != \"Class\"]]\n",
    "    # labels of train data \n",
    "    data_train_Y = data_train.loc[:, lambda x: \"Class\"]\n",
    "\n",
    "    # The rest is test data\n",
    "    data_test = data.loc[~data.index.isin(data_train.index)]\n",
    "    # Test data without label\n",
    "    data_test_X = data_test.loc[:, lambda x: [l for l in data if l != \"Class\"]]\n",
    "    # labels of test data \n",
    "    data_test_Y = data_test.loc[:, lambda x: \"Class\"]\n",
    "\n",
    "    # Train svm\n",
    "    perc.fit(data_train_X, data_train_Y)\n",
    "    predMiss.append((data_test_Y != perc.predict(data_test_X)).sum())\n",
    "    # Score the mean accuracy on the test data and append results in a list\n",
    "    results.append(perc.score(data_test_X, data_test_Y))\n",
    "\n",
    "# Convert results to an array and look at the minimum and the average\n",
    "predErr = np.hstack(predMiss)\n",
    "Final = np.hstack(results)\n",
    "print('Minimum Accuracy Score:   %.8f' % Final[Final.argmin()])\n",
    "print('Maximum Accuracy Score:   %.8f' % Final[Final.argmax()])\n",
    "print('Average Accuracy Score:   %.8f' % np.average(Final))\n",
    "print('Minimum Prediction Misses:   %d' % predErr[predErr.argmin()])\n",
    "print('Maximum Prediction Misses:   %d' % predErr[predErr.argmax()])\n",
    "print('Average Prediction Misses:   %.2f' % np.average(predErr))"
   ]
  },
  {
   "cell_type": "markdown",
   "metadata": {
    "_uuid": "3189852063517407f02088704900c7dbb1716b41"
   },
   "source": [
    "## Configuring  the SVM Classifiers"
   ]
  },
  {
   "cell_type": "code",
   "execution_count": 25,
   "metadata": {
    "_uuid": "51968973675396fdf83a277ae373903a4bb581b6",
    "collapsed": true
   },
   "outputs": [],
   "source": [
    "# Create the radial basis function kernel version of a Support Vector Machine classifier\n",
    "rbf_clf = svm.SVC(C=1.0, cache_size=200, class_weight=None, coef0=0.0,\n",
    "              decision_function_shape='ovo', degree=3, gamma='auto', kernel='rbf',\n",
    "              max_iter=-1, probability=False, random_state=None, shrinking=True,\n",
    "              tol=0.001, verbose=False)\n",
    "# Create the linear kernel version of a Support Vector Machine classifier\n",
    "lin_clf = svm.SVC(C=1.0, cache_size=200, class_weight=None, coef0=0.0,\n",
    "              decision_function_shape='ovo', degree=3, gamma='auto', kernel='linear',\n",
    "              max_iter=-1, probability=False, random_state=None, shrinking=True,\n",
    "              tol=0.001, verbose=False)\n",
    "# Create the polynomial kernel version of a Support Vector Machine classifier\n",
    "poly_clf = svm.SVC(C=1.0, cache_size=200, class_weight=None, coef0=0.0,\n",
    "              decision_function_shape='ovo', degree=3, gamma='auto', kernel='poly',\n",
    "              max_iter=-1, probability=False, random_state=None, shrinking=True,\n",
    "              tol=0.001, verbose=False)\n",
    "# Create the sigmoid kernel version of a Support Vector Machine classifier\n",
    "sig_clf = svm.SVC(C=1.0, cache_size=200, class_weight=None, coef0=0.0,\n",
    "              decision_function_shape='ovo', degree=3, gamma='auto', kernel='sigmoid',\n",
    "              max_iter=-1, probability=False, random_state=None, shrinking=True,\n",
    "              tol=0.001, verbose=False)"
   ]
  },
  {
   "cell_type": "markdown",
   "metadata": {
    "_uuid": "442cb3d667a801bfba37ebeab62467e5cb24ef8c"
   },
   "source": [
    "##  Split Data, Train, and Test - SVMs"
   ]
  },
  {
   "cell_type": "code",
   "execution_count": 26,
   "metadata": {
    "_uuid": "a340e5d4ac3a50a02f64671d736f956eca8be579"
   },
   "outputs": [],
   "source": [
    "res_rbf = []\n",
    "predMiss_rbf = []\n",
    "res_lin = []\n",
    "predMiss_lin = []\n",
    "res_poly = []\n",
    "predMiss_poly = []\n",
    "res_sig = []\n",
    "predMiss_sig = []\n",
    "\n",
    "for _ in range(1000):\n",
    "    # Randomly sample our training data\n",
    "    data_train = data.sample(frac=0.7)\n",
    "    # train data without label\n",
    "    data_train_X = data_train.loc[:, lambda x: [l for l in data if l != \"Class\"]]\n",
    "    # labels of train data \n",
    "    data_train_Y = data_train.loc[:, lambda x: \"Class\"]\n",
    "\n",
    "    # The rest is test data\n",
    "    data_test = data.loc[~data.index.isin(data_train.index)]\n",
    "    # Test data without label\n",
    "    data_test_X = data_test.loc[:, lambda x: [l for l in data if l != \"Class\"]]\n",
    "    # labels of test data \n",
    "    data_test_Y = data_test.loc[:, lambda x: \"Class\"]\n",
    "\n",
    "    # Train svms\n",
    "    rbf_clf.fit(data_train_X, data_train_Y)\n",
    "    lin_clf.fit(data_train_X, data_train_Y)\n",
    "    poly_clf.fit(data_train_X, data_train_Y)\n",
    "    sig_clf.fit(data_train_X, data_train_Y)\n",
    "    \n",
    "    #Sum the prediction misses. Since this is a smaller dataset, \n",
    "    predMiss_rbf.append((data_test_Y != rbf_clf.predict(data_test_X)).sum())\n",
    "    predMiss_lin.append((data_test_Y != lin_clf.predict(data_test_X)).sum())\n",
    "    predMiss_poly.append((data_test_Y != poly_clf.predict(data_test_X)).sum())\n",
    "    predMiss_sig.append((data_test_Y != sig_clf.predict(data_test_X)).sum())\n",
    "    # Score the mean accuracy on the test data and append results in a list\n",
    "    res_rbf.append(rbf_clf.score(data_test_X, data_test_Y))\n",
    "    res_lin.append(lin_clf.score(data_test_X, data_test_Y))\n",
    "    res_poly.append(poly_clf.score(data_test_X, data_test_Y))\n",
    "    res_sig.append(sig_clf.score(data_test_X, data_test_Y))\n",
    "\n",
    "# Convert results and prediction lists to an array and look at the minimums and the averages\n",
    "predErr_rbf = np.hstack(predMiss_rbf)\n",
    "Final_rbf = np.hstack(res_rbf)\n",
    "predErr_lin = np.hstack(predMiss_lin)\n",
    "Final_lin = np.hstack(res_lin)\n",
    "predErr_poly = np.hstack(predMiss_poly)\n",
    "Final_poly = np.hstack(res_poly)\n",
    "predErr_sig = np.hstack(predMiss_sig)\n",
    "Final_sig = np.hstack(res_sig)\n",
    "\n",
    "\n",
    "print('RBF Minimum Accuracy Score:   %.8f' % Final_rbf[Final_rbf.argmin()])\n",
    "print('RBF Maximum Accuracy Score:   %.8f' % Final_rbf[Final_rbf.argmax()])\n",
    "print('RBF Average Accuracy Score:   %.8f' % np.average(Final_rbf))\n",
    "print('------------------------------------------------')\n",
    "print('Linear Minimum Accuracy Score:   %.8f' % Final_lin[Final_lin.argmin()])\n",
    "print('Linear Maximum Accuracy Score:   %.8f' % Final_lin[Final_lin.argmax()])\n",
    "print('Linear Average Accuracy Score:   %.8f' % np.average(Final_lin))\n",
    "print('------------------------------------------------')\n",
    "print('Polynomial Minimum Accuracy Score:   %.8f' % Final_poly[Final_poly.argmin()])\n",
    "print('Polynomial Maximum Accuracy Score:   %.8f' % Final_poly[Final_poly.argmax()])\n",
    "print('Polynomial Average Accuracy Score:   %.8f' % np.average(Final_poly))\n",
    "print('------------------------------------------------')\n",
    "print('Sigmoid Minimum Accuracy Score:   %.8f' % Final_sig[Final_sig.argmin()])\n",
    "print('Sigmoid Maximum Accuracy Score:   %.8f' % Final_sig[Final_sig.argmax()])\n",
    "print('Sigmoid Average Accuracy Score:   %.8f' % np.average(Final_sig))\n",
    "print('================================================')\n",
    "#print('Minimum Prediction Misses:   %d' % predErr[predErr.argmin()])\n",
    "#print('Maximum Prediction Misses:   %d' % predErr[predErr.argmax()])\n",
    "print('RBF Average Prediction Misses:   %.2f' % np.average(predErr_rbf))\n",
    "print('Linear Average Prediction Misses:   %.2f' % np.average(predErr_lin))\n",
    "print('Polynomial Average Prediction Misses:   %.2f' % np.average(predErr_poly))\n",
    "print('Sigmoid Average Prediction Misses:   %.2f' % np.average(predErr_sig))"
   ]
  },
  {
   "cell_type": "markdown",
   "metadata": {
    "_uuid": "d8fb6b8807197cbfa4dbedaba4909c2430ea9135"
   },
   "source": [
    "## Configuring the Decision Tree Classifiers"
   ]
  },
  {
   "cell_type": "code",
   "execution_count": 27,
   "metadata": {
    "_uuid": "5297a6fb998a854371b55de4c21c13bb3b546100",
    "collapsed": true
   },
   "outputs": [],
   "source": [
    "tree3 = DecisionTreeClassifier(random_state=56, criterion='gini', max_depth=3)\n",
    "tree5 = DecisionTreeClassifier(random_state=56, criterion='gini', max_depth=5)"
   ]
  },
  {
   "cell_type": "markdown",
   "metadata": {
    "_uuid": "dd0578b81d0cd8c6c5eb699ff3ca578b1b87d1a3"
   },
   "source": [
    "##  Split Data, Train, and Test - Decision Trees"
   ]
  },
  {
   "cell_type": "code",
   "execution_count": 30,
   "metadata": {
    "_uuid": "64761bb5fe904861d36eaead692715a2e162a809"
   },
   "outputs": [],
   "source": [
    "results_3 = []\n",
    "results_5 = []\n",
    "predMiss_3 = []\n",
    "predMiss_5 = []\n",
    "\n",
    "\n",
    "for _ in range(1000):\n",
    "    # Randomly sample our training data\n",
    "    data_train = data.sample(frac=0.7)\n",
    "    # train data without label\n",
    "    data_train_X = data_train.loc[:, lambda x: [l for l in data if l != \"Class\"]]\n",
    "    # labels of train data \n",
    "    data_train_Y = data_train.loc[:, lambda x: \"Class\"]\n",
    "\n",
    "    # The rest is test data\n",
    "    data_test = data.loc[~data.index.isin(data_train.index)]\n",
    "    # Test data without label\n",
    "    data_test_X = data_test.loc[:, lambda x: [l for l in data if l != \"Class\"]]\n",
    "    # labels of test data \n",
    "    data_test_Y = data_test.loc[:, lambda x: \"Class\"]\n",
    "\n",
    "    # Train svm\n",
    "    tree3.fit(data_train_X, data_train_Y)\n",
    "    tree5.fit(data_train_X, data_train_Y)\n",
    "    #Sum the prediction misses. Since this is a smaller dataset,\n",
    "    predMiss_3.append((data_test_Y != tree3.predict(data_test_X)).sum())\n",
    "    predMiss_5.append((data_test_Y != tree5.predict(data_test_X)).sum())\n",
    "    # Score the mean accuracy on the test data and append results in a list\n",
    "    results_3.append(tree3.score(data_test_X, data_test_Y))\n",
    "    results_5.append(tree5.score(data_test_X, data_test_Y))\n",
    "\n",
    "# Convert results to an array and look at the minimum and the average\n",
    "predErr_3 = np.hstack(predMiss_3)\n",
    "predErr_5 = np.hstack(predMiss_5)\n",
    "Final_3 = np.hstack(results_3)\n",
    "Final_5 = np.hstack(results_5)\n",
    "print('3-depth Tree Minimum Accuracy Score:   %.8f' % Final_3[Final_3.argmin()])\n",
    "print('3-depth Tree Maximum Accuracy Score:   %.8f' % Final_3[Final_3.argmax()])\n",
    "print('3-depth Tree Average Accuracy Score:   %.8f' % np.average(Final_3))\n",
    "print('------------------------------------------------')\n",
    "print('5-depth Tree Minimum Accuracy Score:   %.8f' % Final_5[Final_5.argmin()])\n",
    "print('5-depth Tree Maximum Accuracy Score:   %.8f' % Final_5[Final_5.argmax()])\n",
    "print('5-depth Tree Average Accuracy Score:   %.8f' % np.average(Final_5))\n",
    "#print('Minimum Prediction Misses:   %d' % predErr[predErr.argmin()])\n",
    "#print('Maximum Prediction Misses:   %d' % predErr[predErr.argmax()])\n",
    "#print('Average Prediction Misses:   %.2f' % np.average(predErr))"
   ]
  },
  {
   "cell_type": "markdown",
   "metadata": {
    "_uuid": "ad5f03bd3ccdde76055006bc045c4906cae0afa8"
   },
   "source": [
    "## Final results\n",
    "<table>\n",
    "    <tr>\n",
    "    <th>Algorithm</th>\n",
    "    <td>Perceptron</td>\n",
    "    <td>SVM (rbf)</td>\n",
    "    <td>SVM (linear)</td>\n",
    "    <td>SVM (polynomial (1))</td>\n",
    "    <td>SVM (polynomial (2))</td>\n",
    "    <td>SVM (polynomial (3))</td>\n",
    "    <td>SVM (polynomial (5))</td>\n",
    "    <td>SVM (sigmoid)</td>\n",
    "    <td>Random Forest (depth = 3)</td>\n",
    "    <td>Random Forest (depth = 5)</td>\n",
    "    </tr>\n",
    "    <tr>\n",
    "    <th>Average Accuracy</th>\n",
    "    <td>0.64736806</td>\n",
    "    <td>0.74331250</td>\n",
    "    <td>0.75625000</td>\n",
    "    <td>0.73275000</td>\n",
    "    <td>0.60676389</td>\n",
    "    <td>0.43888194</td>\n",
    "    <td>0.43865278</td>\n",
    "    <td>0.72772222</td>\n",
    "    <td>0.68082639</td>\n",
    "    <td>0.71702083</td>\n",
    "    </tr>\n",
    "    </table>\n",
    "#### As we can see from the table, a SVM with a linear kernel actually ends up handling the data the best with a 75.62% accuracy."
   ]
  },
  {
   "cell_type": "code",
   "execution_count": null,
   "metadata": {
    "_uuid": "39d0e57558b767ea4eabc67f747258670a71fd9e",
    "collapsed": true
   },
   "outputs": [],
   "source": []
  }
 ],
 "metadata": {
  "kernelspec": {
   "display_name": "Python 3 (ipykernel)",
   "language": "python",
   "name": "python3"
  },
  "language_info": {
   "codemirror_mode": {
    "name": "ipython",
    "version": 3
   },
   "file_extension": ".py",
   "mimetype": "text/x-python",
   "name": "python",
   "nbconvert_exporter": "python",
   "pygments_lexer": "ipython3",
   "version": "3.10.9"
  },
  "varInspector": {
   "cols": {
    "lenName": 16,
    "lenType": 16,
    "lenVar": 40
   },
   "kernels_config": {
    "python": {
     "delete_cmd_postfix": "",
     "delete_cmd_prefix": "del ",
     "library": "var_list.py",
     "varRefreshCmd": "print(var_dic_list())"
    },
    "r": {
     "delete_cmd_postfix": ") ",
     "delete_cmd_prefix": "rm(",
     "library": "var_list.r",
     "varRefreshCmd": "cat(var_dic_list()) "
    }
   },
   "types_to_exclude": [
    "module",
    "function",
    "builtin_function_or_method",
    "instance",
    "_Feature"
   ],
   "window_display": false
  }
 },
 "nbformat": 4,
 "nbformat_minor": 1
}
