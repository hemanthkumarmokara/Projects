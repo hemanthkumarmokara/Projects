{
 "cells": [
  {
   "cell_type": "code",
   "execution_count": 70,
   "id": "ab120325",
   "metadata": {},
   "outputs": [],
   "source": [
    "import warnings\n",
    "import pandas as pd\n",
    "import numpy as np\n",
    "import matplotlib.pyplot as plt\n",
    "import seaborn as sns\n",
    "\n",
    "from warnings import filterwarnings\n",
    "filterwarnings(action='ignore')"
   ]
  },
  {
   "cell_type": "code",
   "execution_count": 71,
   "id": "bf096d22",
   "metadata": {},
   "outputs": [
    {
     "data": {
      "text/plain": [
       "(891, 12)"
      ]
     },
     "execution_count": 71,
     "metadata": {},
     "output_type": "execute_result"
    }
   ],
   "source": [
    "train = pd.read_csv('C:\\\\Users\\\\heman\\\\Downloads\\\\usage3\\\\train.csv')\n",
    "test = pd.read_csv('C:\\\\Users\\\\heman\\\\Downloads\\\\usage3\\\\test.csv')\n",
    "\n",
    "# To know number of columns and rows\n",
    "train.shape\n",
    "# (891, 12)\n"
   ]
  },
  {
   "cell_type": "code",
   "execution_count": 72,
   "id": "95b189f7",
   "metadata": {},
   "outputs": [
    {
     "name": "stdout",
     "output_type": "stream",
     "text": [
      "<class 'pandas.core.frame.DataFrame'>\n",
      "RangeIndex: 891 entries, 0 to 890\n",
      "Data columns (total 12 columns):\n",
      " #   Column       Non-Null Count  Dtype  \n",
      "---  ------       --------------  -----  \n",
      " 0   PassengerId  891 non-null    int64  \n",
      " 1   Survived     891 non-null    int64  \n",
      " 2   Pclass       891 non-null    int64  \n",
      " 3   Name         891 non-null    object \n",
      " 4   Sex          891 non-null    object \n",
      " 5   Age          714 non-null    float64\n",
      " 6   SibSp        891 non-null    int64  \n",
      " 7   Parch        891 non-null    int64  \n",
      " 8   Ticket       891 non-null    object \n",
      " 9   Fare         891 non-null    float64\n",
      " 10  Cabin        204 non-null    object \n",
      " 11  Embarked     889 non-null    object \n",
      "dtypes: float64(2), int64(5), object(5)\n",
      "memory usage: 83.7+ KB\n"
     ]
    }
   ],
   "source": [
    "train.info()\n"
   ]
  },
  {
   "cell_type": "code",
   "execution_count": 73,
   "id": "df453535",
   "metadata": {},
   "outputs": [
    {
     "data": {
      "text/plain": [
       "PassengerId      0\n",
       "Survived         0\n",
       "Pclass           0\n",
       "Name             0\n",
       "Sex              0\n",
       "Age            177\n",
       "SibSp            0\n",
       "Parch            0\n",
       "Ticket           0\n",
       "Fare             0\n",
       "Cabin          687\n",
       "Embarked         2\n",
       "dtype: int64"
      ]
     },
     "execution_count": 73,
     "metadata": {},
     "output_type": "execute_result"
    }
   ],
   "source": [
    "train.isnull().sum()\n"
   ]
  },
  {
   "cell_type": "code",
   "execution_count": 74,
   "id": "ec324af0",
   "metadata": {},
   "outputs": [
    {
     "data": {
      "image/png": "[encoded data removed]",
      "text/plain": [
       "<Figure size 1200x400 with 2 Axes>"
      ]
     },
     "metadata": {},
     "output_type": "display_data"
    }
   ],
   "source": [
    "f, ax = plt.subplots(1, 2, figsize=(12, 4))\n",
    "train['Survived'].value_counts().plot.pie(\n",
    "explode=[0, 0.1], autopct='%1.1f%%', ax=ax[0], shadow=False)\n",
    "ax[0].set_title('Survivors (1) and the dead (0)')\n",
    "ax[0].set_ylabel('')\n",
    "#sns.countplot('Survived', data=train, ax=ax[1])\n",
    "ax[1].set_ylabel('Quantity')\n",
    "ax[1].set_title('Survivors (1) and the dead (0)')\n",
    "plt.show()\n"
   ]
  },
  {
   "cell_type": "code",
   "execution_count": null,
   "id": "56beafe7",
   "metadata": {},
   "outputs": [],
   "source": [
    "f, ax = plt.subplots(1, 2, figsize=(12, 4))\n",
    "train[['Sex', 'Survived']].groupby(['Sex']).mean().plot.bar(ax=ax[0])\n",
    "ax[0].set_title('Survivors by sex')\n",
    "#sns.countplot('Sex', hue='Survived', data=train, ax=ax[1])\n",
    "ax[1].set_ylabel('Quantity')\n",
    "ax[1].set_title('Survived (1) and deceased (0): men and women')\n",
    "plt.show()\n"
   ]
  },
  {
   "cell_type": "code",
   "execution_count": 75,
   "id": "61522335",
   "metadata": {},
   "outputs": [],
   "source": [
    "# Create a new column cabinbool indicating\n",
    "# if the cabin value was given or was NaN\n",
    "train[\"CabinBool\"] = (train[\"Cabin\"].notnull().astype('int'))\n",
    "test[\"CabinBool\"] = (test[\"Cabin\"].notnull().astype('int'))\n",
    "\n",
    "# Delete the column 'Cabin' from test\n",
    "# and train dataset\n",
    "train = train.drop(['Cabin'], axis=1)\n",
    "test = test.drop(['Cabin'], axis=1)\n"
   ]
  },
  {
   "cell_type": "code",
   "execution_count": 76,
   "id": "d123991a",
   "metadata": {},
   "outputs": [],
   "source": [
    "train = train.drop(['Ticket'], axis=1)\n",
    "test = test.drop(['Ticket'], axis=1)\n"
   ]
  },
  {
   "cell_type": "code",
   "execution_count": 77,
   "id": "645894ac",
   "metadata": {},
   "outputs": [],
   "source": [
    "# replacing the missing values in\n",
    "# the Embarked feature with S\n",
    "train = train.fillna({\"Embarked\": \"S\"})\n"
   ]
  },
  {
   "cell_type": "code",
   "execution_count": 78,
   "id": "bcb5459b",
   "metadata": {},
   "outputs": [],
   "source": [
    "# sort the ages into logical categories\n",
    "train[\"Age\"] = train[\"Age\"].fillna(-0.5)\n",
    "test[\"Age\"] = test[\"Age\"].fillna(-0.5)\n",
    "bins = [-1, 0, 5, 12, 18, 24, 35, 60, np.inf]\n",
    "labels = ['Unknown', 'Baby', 'Child', 'Teenager',\n",
    "\t\t'Student', 'Young Adult', 'Adult', 'Senior']\n",
    "train['AgeGroup'] = pd.cut(train[\"Age\"], bins, labels=labels)\n",
    "test['AgeGroup'] = pd.cut(test[\"Age\"], bins, labels=labels)\n"
   ]
  },
  {
   "cell_type": "code",
   "execution_count": 79,
   "id": "030eddb1",
   "metadata": {},
   "outputs": [],
   "source": [
    "# create a combined group of both datasets\n",
    "combine = [train, test]\n",
    "\n",
    "# extract a title for each Name in the\n",
    "# train and test datasets\n",
    "for dataset in combine:\n",
    "\tdataset['Title'] = dataset.Name.str.extract(' ([A-Za-z]+)\\.', expand=False)\n",
    "\n",
    "pd.crosstab(train['Title'], train['Sex'])\n",
    "\n",
    "# replace various titles with more common names\n",
    "for dataset in combine:\n",
    "\tdataset['Title'] = dataset['Title'].replace(['Lady', 'Capt', 'Col',\n",
    "\t\t\t\t\t\t\t\t\t\t\t\t'Don', 'Dr', 'Major',\n",
    "\t\t\t\t\t\t\t\t\t\t\t\t'Rev', 'Jonkheer', 'Dona'],\n",
    "\t\t\t\t\t\t\t\t\t\t\t\t'Rare')\n",
    "\n",
    "\tdataset['Title'] = dataset['Title'].replace(\n",
    "\t\t['Countess', 'Lady', 'Sir'], 'Royal')\n",
    "\tdataset['Title'] = dataset['Title'].replace('Mlle', 'Miss')\n",
    "\tdataset['Title'] = dataset['Title'].replace('Ms', 'Miss')\n",
    "\tdataset['Title'] = dataset['Title'].replace('Mme', 'Mrs')\n",
    "\n",
    "train[['Title', 'Survived']].groupby(['Title'], as_index=False).mean()\n",
    "\n",
    "# map each of the title groups to a numerical value\n",
    "title_mapping = {\"Mr\": 1, \"Miss\": 2, \"Mrs\": 3,\n",
    "\t\t\t\t\"Master\": 4, \"Royal\": 5, \"Rare\": 6}\n",
    "for dataset in combine:\n",
    "\tdataset['Title'] = dataset['Title'].map(title_mapping)\n",
    "\tdataset['Title'] = dataset['Title'].fillna(0)\n"
   ]
  },
  {
   "cell_type": "code",
   "execution_count": 80,
   "id": "5e480667",
   "metadata": {},
   "outputs": [],
   "source": [
    "mr_age = train[train[\"Title\"] == 1][\"AgeGroup\"].mode() # Young Adult\n",
    "miss_age = train[train[\"Title\"] == 2][\"AgeGroup\"].mode() # Student\n",
    "mrs_age = train[train[\"Title\"] == 3][\"AgeGroup\"].mode() # Adult\n",
    "master_age = train[train[\"Title\"] == 4][\"AgeGroup\"].mode() # Baby\n",
    "royal_age = train[train[\"Title\"] == 5][\"AgeGroup\"].mode() # Adult\n",
    "rare_age = train[train[\"Title\"] == 6][\"AgeGroup\"].mode() # Adult\n",
    "\n",
    "age_title_mapping = {1: \"Young Adult\", 2: \"Student\",\n",
    "\t\t\t\t\t3: \"Adult\", 4: \"Baby\", 5: \"Adult\", 6: \"Adult\"}\n",
    "\n",
    "for x in range(len(train[\"AgeGroup\"])):\n",
    "\tif train[\"AgeGroup\"][x] == \"Unknown\":\n",
    "\t\ttrain[\"AgeGroup\"][x] = age_title_mapping[train[\"Title\"][x]]\n",
    "\n",
    "for x in range(len(test[\"AgeGroup\"])):\n",
    "\tif test[\"AgeGroup\"][x] == \"Unknown\":\n",
    "\t\ttest[\"AgeGroup\"][x] = age_title_mapping[test[\"Title\"][x]]\n"
   ]
  },
  {
   "cell_type": "code",
   "execution_count": 81,
   "id": "66ef41cd",
   "metadata": {},
   "outputs": [],
   "source": [
    "# map each Age value to a numerical value\n",
    "age_mapping = {'Baby': 1, 'Child': 2, 'Teenager': 3,\n",
    "\t\t\t'Student': 4, 'Young Adult': 5, 'Adult': 6,\n",
    "\t\t\t'Senior': 7}\n",
    "train['AgeGroup'] = train['AgeGroup'].map(age_mapping)\n",
    "test['AgeGroup'] = test['AgeGroup'].map(age_mapping)\n",
    "\n",
    "train.head()\n",
    "\n",
    "# dropping the Age feature for now, might change\n",
    "train = train.drop(['Age'], axis=1)\n",
    "test = test.drop(['Age'], axis=1)\n"
   ]
  },
  {
   "cell_type": "code",
   "execution_count": 82,
   "id": "6337f368",
   "metadata": {},
   "outputs": [],
   "source": [
    "train = train.drop(['Name'], axis=1)\n",
    "test = test.drop(['Name'], axis=1)\n"
   ]
  },
  {
   "cell_type": "code",
   "execution_count": 83,
   "id": "fcc11487",
   "metadata": {},
   "outputs": [],
   "source": [
    "sex_mapping = {\"male\": 0, \"female\": 1}\n",
    "train['Sex'] = train['Sex'].map(sex_mapping)\n",
    "test['Sex'] = test['Sex'].map(sex_mapping)\n",
    "\n",
    "embarked_mapping = {\"S\": 1, \"C\": 2, \"Q\": 3}\n",
    "train['Embarked'] = train['Embarked'].map(embarked_mapping)\n",
    "test['Embarked'] = test['Embarked'].map(embarked_mapping)\n"
   ]
  },
  {
   "cell_type": "code",
   "execution_count": 84,
   "id": "4c63f154",
   "metadata": {},
   "outputs": [],
   "source": [
    "for x in range(len(test[\"Fare\"])):\n",
    "\tif pd.isnull(test[\"Fare\"][x]):\n",
    "\t\tpclass = test[\"Pclass\"][x] # Pclass = 3\n",
    "\t\ttest[\"Fare\"][x] = round(\n",
    "\t\t\ttrain[train[\"Pclass\"] == pclass][\"Fare\"].mean(), 4)\n",
    "\n",
    "# map Fare values into groups of\n",
    "# numerical values\n",
    "train['FareBand'] = pd.qcut(train['Fare'], 4,\n",
    "\t\t\t\t\t\t\tlabels=[1, 2, 3, 4])\n",
    "test['FareBand'] = pd.qcut(test['Fare'], 4,\n",
    "\t\t\t\t\t\tlabels=[1, 2, 3, 4])\n",
    "\n",
    "# drop Fare values\n",
    "train = train.drop(['Fare'], axis=1)\n",
    "test = test.drop(['Fare'], axis=1)\n"
   ]
  },
  {
   "cell_type": "code",
   "execution_count": 85,
   "id": "4f1c344f",
   "metadata": {},
   "outputs": [],
   "source": [
    "#model training"
   ]
  },
  {
   "cell_type": "code",
   "execution_count": 86,
   "id": "37df5319",
   "metadata": {},
   "outputs": [],
   "source": [
    "from sklearn.model_selection import train_test_split\n",
    "\n",
    "# Drop the Survived and PassengerId\n",
    "# column from the trainset\n",
    "predictors = train.drop(['Survived', 'PassengerId'], axis=1)\n",
    "target = train[\"Survived\"]\n",
    "x_train, x_val, y_train, y_val = train_test_split(\n",
    "\tpredictors, target, test_size=0.2, random_state=0)\n"
   ]
  },
  {
   "cell_type": "code",
   "execution_count": 87,
   "id": "ec4ef3c4",
   "metadata": {},
   "outputs": [
    {
     "name": "stdout",
     "output_type": "stream",
     "text": [
      "83.8\n"
     ]
    }
   ],
   "source": [
    "from sklearn.ensemble import RandomForestClassifier\n",
    "from sklearn.metrics import accuracy_score\n",
    "\n",
    "randomforest = RandomForestClassifier()\n",
    "\n",
    "# Fit the training data along with its output\n",
    "randomforest.fit(x_train, y_train)\n",
    "y_pred = randomforest.predict(x_val)\n",
    "\n",
    "# Find the accuracy score of the model\n",
    "acc_randomforest = round(accuracy_score(y_pred, y_val) * 100, 2)\n",
    "print(acc_randomforest)\n"
   ]
  },
  {
   "cell_type": "code",
   "execution_count": null,
   "id": "2bc3c3a0",
   "metadata": {},
   "outputs": [],
   "source": []
  },
  {
   "cell_type": "code",
   "execution_count": 88,
   "id": "fa382a7c",
   "metadata": {},
   "outputs": [],
   "source": [
    "#prediction"
   ]
  },
  {
   "cell_type": "code",
   "execution_count": 89,
   "id": "4b3032e3",
   "metadata": {},
   "outputs": [],
   "source": [
    "ids = test['PassengerId']\n",
    "predictions = randomforest.predict(test.drop('PassengerId', axis=1))\n",
    "\n",
    "# set the output as a dataframe and convert\n",
    "# to csv file named resultfile.csv\n",
    "output = pd.DataFrame({'PassengerId': ids, 'Survived': predictions})\n",
    "output.to_csv('resultfile.csv', index=False)\n"
   ]
  },
  {
   "cell_type": "code",
   "execution_count": null,
   "id": "fcff4d9b",
   "metadata": {},
   "outputs": [],
   "source": []
  },
  {
   "cell_type": "code",
   "execution_count": null,
   "id": "e8e4954f",
   "metadata": {},
   "outputs": [],
   "source": []
  }
 ],
 "metadata": {
  "kernelspec": {
   "display_name": "Python 3 (ipykernel)",
   "language": "python",
   "name": "python3"
  },
  "language_info": {
   "codemirror_mode": {
    "name": "ipython",
    "version": 3
   },
   "file_extension": ".py",
   "mimetype": "text/x-python",
   "name": "python",
   "nbconvert_exporter": "python",
   "pygments_lexer": "ipython3",
   "version": "3.10.9"
  },
  "varInspector": {
   "cols": {
    "lenName": 16,
    "lenType": 16,
    "lenVar": 40
   },
   "kernels_config": {
    "python": {
     "delete_cmd_postfix": "",
     "delete_cmd_prefix": "del ",
     "library": "var_list.py",
     "varRefreshCmd": "print(var_dic_list())"
    },
    "r": {
     "delete_cmd_postfix": ") ",
     "delete_cmd_prefix": "rm(",
     "library": "var_list.r",
     "varRefreshCmd": "cat(var_dic_list()) "
    }
   },
   "types_to_exclude": [
    "module",
    "function",
    "builtin_function_or_method",
    "instance",
    "_Feature"
   ],
   "window_display": false
  }
 },
 "nbformat": 4,
 "nbformat_minor": 5
}
